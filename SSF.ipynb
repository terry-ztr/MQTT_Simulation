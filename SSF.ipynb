{
 "cells": [
  {
   "cell_type": "code",
   "execution_count": 7,
   "metadata": {},
   "outputs": [],
   "source": [
    "import myComponents as tc\n",
    "import topic as tp\n",
    "import matplotlib.pyplot as plt\n",
    "import networkx as nx\n",
    "import numpy as np\n",
    "import random"
   ]
  },
  {
   "cell_type": "code",
   "execution_count": 13,
   "metadata": {},
   "outputs": [],
   "source": [
    "# network parameter\n",
    "num_broker = 10000\n",
    "num_sub = 5000\n",
    "num_pub = 4000\n",
    "broker_r = 500\n",
    "broker_rates = [broker_r]*num_broker\n",
    "topic_dist = [10,10,10]\n",
    "monitor_rate = 1\n",
    "runtime = 100\n",
    "connection_style = None\n",
    "\n",
    "# sub parameter\n",
    "avg_sub_size = 10.0\n",
    "sub_r = 3\n",
    "\n",
    "sub_rates = [sub_r]*num_sub\n",
    "sub_num_topic = [10]*num_sub\n",
    "sub_diameter = [len(topic_dist)]*num_sub\n",
    "\n",
    "# pub parameter\n",
    "avg_pub_size = 20.0\n",
    "pub_r = 3\n",
    "\n",
    "pub_rates = [pub_r]*num_pub\n",
    "pub_num_topic = [np.prod(topic_dist)//num_pub*2]*num_pub\n",
    "pub_diameter = [len(topic_dist)]*num_pub\n",
    "\n",
    "\n",
    "seed = 1"
   ]
  },
  {
   "cell_type": "code",
   "execution_count": 14,
   "metadata": {},
   "outputs": [
    {
     "ename": "IndexError",
     "evalue": "list index out of range",
     "output_type": "error",
     "traceback": [
      "\u001b[0;31m---------------------------------------------------------------------------\u001b[0m",
      "\u001b[0;31mIndexError\u001b[0m                                Traceback (most recent call last)",
      "\u001b[0;32m~/Documents/MQTT_Simulation/myComponents.py\u001b[0m in \u001b[0;36mrun\u001b[0;34m(self)\u001b[0m\n\u001b[1;32m    104\u001b[0m             \u001b[0;32myield\u001b[0m \u001b[0mself\u001b[0m\u001b[0;34m.\u001b[0m\u001b[0menv\u001b[0m\u001b[0;34m.\u001b[0m\u001b[0mtimeout\u001b[0m\u001b[0;34m(\u001b[0m\u001b[0mself\u001b[0m\u001b[0;34m.\u001b[0m\u001b[0madist\u001b[0m\u001b[0;34m(\u001b[0m\u001b[0;34m)\u001b[0m\u001b[0;34m)\u001b[0m\u001b[0;34m\u001b[0m\u001b[0;34m\u001b[0m\u001b[0m\n\u001b[0;32m--> 105\u001b[0;31m             \u001b[0mtopic\u001b[0m \u001b[0;34m=\u001b[0m \u001b[0mself\u001b[0m\u001b[0;34m.\u001b[0m\u001b[0mtopic_list\u001b[0m\u001b[0;34m[\u001b[0m\u001b[0mrandom\u001b[0m\u001b[0;34m.\u001b[0m\u001b[0mrandint\u001b[0m\u001b[0;34m(\u001b[0m\u001b[0;36m0\u001b[0m\u001b[0;34m,\u001b[0m \u001b[0mlen\u001b[0m\u001b[0;34m(\u001b[0m\u001b[0mself\u001b[0m\u001b[0;34m.\u001b[0m\u001b[0mtopic_list\u001b[0m\u001b[0;34m)\u001b[0m\u001b[0;34m)\u001b[0m \u001b[0;34m-\u001b[0m \u001b[0;36m1\u001b[0m\u001b[0;34m]\u001b[0m\u001b[0;34m\u001b[0m\u001b[0;34m\u001b[0m\u001b[0m\n\u001b[0m\u001b[1;32m    106\u001b[0m             p = Packet(self.env.now, self.sdist(), self.packets_sent, pkt_type=self.client_type, topic=topic,\n",
      "\u001b[0;31mIndexError\u001b[0m: list index out of range",
      "\nThe above exception was the direct cause of the following exception:\n",
      "\u001b[0;31mIndexError\u001b[0m                                Traceback (most recent call last)",
      "\u001b[0;32m<ipython-input-14-da1feed9940f>\u001b[0m in \u001b[0;36m<module>\u001b[0;34m\u001b[0m\n\u001b[1;32m      8\u001b[0m \u001b[0mnet\u001b[0m\u001b[0;34m.\u001b[0m\u001b[0mestablish_topology\u001b[0m\u001b[0;34m(\u001b[0m\u001b[0mseed\u001b[0m\u001b[0;34m)\u001b[0m\u001b[0;34m\u001b[0m\u001b[0;34m\u001b[0m\u001b[0m\n\u001b[1;32m      9\u001b[0m \u001b[0mnet\u001b[0m\u001b[0;34m.\u001b[0m\u001b[0mconnect_client\u001b[0m\u001b[0;34m(\u001b[0m\u001b[0mconnection_style\u001b[0m\u001b[0;34m,\u001b[0m \u001b[0mseed\u001b[0m\u001b[0;34m)\u001b[0m\u001b[0;34m\u001b[0m\u001b[0;34m\u001b[0m\u001b[0m\n\u001b[0;32m---> 10\u001b[0;31m \u001b[0mnet\u001b[0m\u001b[0;34m.\u001b[0m\u001b[0menv\u001b[0m\u001b[0;34m.\u001b[0m\u001b[0mrun\u001b[0m\u001b[0;34m(\u001b[0m\u001b[0mruntime\u001b[0m\u001b[0;34m)\u001b[0m\u001b[0;34m\u001b[0m\u001b[0;34m\u001b[0m\u001b[0m\n\u001b[0m\u001b[1;32m     11\u001b[0m \u001b[0mprint\u001b[0m\u001b[0;34m(\u001b[0m\u001b[0mtc\u001b[0m\u001b[0;34m.\u001b[0m\u001b[0mSwitchPort\u001b[0m\u001b[0;34m.\u001b[0m\u001b[0mmode\u001b[0m\u001b[0;34m)\u001b[0m\u001b[0;34m\u001b[0m\u001b[0;34m\u001b[0m\u001b[0m\n",
      "\u001b[0;32m~/opt/anaconda3/lib/python3.8/site-packages/simpy/core.py\u001b[0m in \u001b[0;36mrun\u001b[0;34m(self, until)\u001b[0m\n\u001b[1;32m    252\u001b[0m         \u001b[0;32mtry\u001b[0m\u001b[0;34m:\u001b[0m\u001b[0;34m\u001b[0m\u001b[0;34m\u001b[0m\u001b[0m\n\u001b[1;32m    253\u001b[0m             \u001b[0;32mwhile\u001b[0m \u001b[0;32mTrue\u001b[0m\u001b[0;34m:\u001b[0m\u001b[0;34m\u001b[0m\u001b[0;34m\u001b[0m\u001b[0m\n\u001b[0;32m--> 254\u001b[0;31m                 \u001b[0mself\u001b[0m\u001b[0;34m.\u001b[0m\u001b[0mstep\u001b[0m\u001b[0;34m(\u001b[0m\u001b[0;34m)\u001b[0m\u001b[0;34m\u001b[0m\u001b[0;34m\u001b[0m\u001b[0m\n\u001b[0m\u001b[1;32m    255\u001b[0m         \u001b[0;32mexcept\u001b[0m \u001b[0mStopSimulation\u001b[0m \u001b[0;32mas\u001b[0m \u001b[0mexc\u001b[0m\u001b[0;34m:\u001b[0m\u001b[0;34m\u001b[0m\u001b[0;34m\u001b[0m\u001b[0m\n\u001b[1;32m    256\u001b[0m             \u001b[0;32mreturn\u001b[0m \u001b[0mexc\u001b[0m\u001b[0;34m.\u001b[0m\u001b[0margs\u001b[0m\u001b[0;34m[\u001b[0m\u001b[0;36m0\u001b[0m\u001b[0;34m]\u001b[0m  \u001b[0;31m# == until.value\u001b[0m\u001b[0;34m\u001b[0m\u001b[0;34m\u001b[0m\u001b[0m\n",
      "\u001b[0;32m~/opt/anaconda3/lib/python3.8/site-packages/simpy/core.py\u001b[0m in \u001b[0;36mstep\u001b[0;34m(self)\u001b[0m\n\u001b[1;32m    204\u001b[0m             \u001b[0mexc\u001b[0m \u001b[0;34m=\u001b[0m \u001b[0mtype\u001b[0m\u001b[0;34m(\u001b[0m\u001b[0mevent\u001b[0m\u001b[0;34m.\u001b[0m\u001b[0m_value\u001b[0m\u001b[0;34m)\u001b[0m\u001b[0;34m(\u001b[0m\u001b[0;34m*\u001b[0m\u001b[0mevent\u001b[0m\u001b[0;34m.\u001b[0m\u001b[0m_value\u001b[0m\u001b[0;34m.\u001b[0m\u001b[0margs\u001b[0m\u001b[0;34m)\u001b[0m\u001b[0;34m\u001b[0m\u001b[0;34m\u001b[0m\u001b[0m\n\u001b[1;32m    205\u001b[0m             \u001b[0mexc\u001b[0m\u001b[0;34m.\u001b[0m\u001b[0m__cause__\u001b[0m \u001b[0;34m=\u001b[0m \u001b[0mevent\u001b[0m\u001b[0;34m.\u001b[0m\u001b[0m_value\u001b[0m\u001b[0;34m\u001b[0m\u001b[0;34m\u001b[0m\u001b[0m\n\u001b[0;32m--> 206\u001b[0;31m             \u001b[0;32mraise\u001b[0m \u001b[0mexc\u001b[0m\u001b[0;34m\u001b[0m\u001b[0;34m\u001b[0m\u001b[0m\n\u001b[0m\u001b[1;32m    207\u001b[0m \u001b[0;34m\u001b[0m\u001b[0m\n\u001b[1;32m    208\u001b[0m     def run(\n",
      "\u001b[0;31mIndexError\u001b[0m: list index out of range"
     ]
    }
   ],
   "source": [
    "# run simluattion\n",
    "tc.SwitchPort.mode = 'SSF'\n",
    "total_topic = tp.TopicTree()\n",
    "total_topic.random_construct(topic_dist, seed)\n",
    "#total_topic.visualize(total_topic.root)\n",
    "net = tc.Network(total_topic, avg_sub_size, avg_pub_size)\n",
    "net.initialize_nodes(broker_rates, sub_rates, sub_num_topic, sub_diameter, pub_rates, pub_num_topic, pub_diameter, monitor_rate, seed)\n",
    "net.establish_topology(seed)\n",
    "net.connect_client(connection_style, seed)\n",
    "net.env.run(runtime)\n",
    "print(tc.SwitchPort.mode)"
   ]
  },
  {
   "cell_type": "code",
   "execution_count": null,
   "metadata": {},
   "outputs": [],
   "source": [
    "# plot\n",
    "net.visualize()\n",
    "plt.figure(figsize=(10, 3), dpi=80)\n",
    "#monitor.queue_size\n",
    "#monitor.queue_length\n",
    "for i in range(len(net.broker_monitor_list)):\n",
    "    monitor = net.broker_monitor_list[i]\n",
    "    plt.plot(monitor.queue_length, label=monitor.port.sp_id)\n",
    "plt.legend(bbox_to_anchor=(1.01, 1),loc='upper left')\n",
    "plt.title(\"queue length\")\n",
    "window = 6\n",
    "plt.figure(figsize=(10, 3), dpi=80)\n",
    "for i in range(len(net.broker_monitor_list)):\n",
    "    monitor = net.broker_monitor_list[i]\n",
    "    a = np.array(monitor.bytes_sent)\n",
    "    b = np.array([0]*window+monitor.bytes_sent[0:-window])\n",
    "    plt.plot((a-b)[window-1:]/window/monitor_rate, label=monitor.port.sp_id)\n",
    "plt.legend(bbox_to_anchor=(1.01, 1),loc='upper left')\n",
    "plt.title(\"output rate in byte/s, window=\"+str(window))\n",
    "import warnings\n",
    "warnings.filterwarnings('ignore')\n",
    "window = 6\n",
    "plt.figure(figsize=(10, 9), dpi=80)\n",
    "\n",
    "for i in range(len(net.sub_monitor_list)):\n",
    "    monitor = net.sub_monitor_list[i]\n",
    "    a = np.array(monitor.packets_rec)\n",
    "    b = np.array([0]*window+monitor.packets_rec[0:-window])\n",
    "    avg_packet_rec_per_time = (a-b)[window-1:]/window/monitor_rate\n",
    "    \n",
    "    a = np.array(monitor.tot_waits)\n",
    "    b = np.array([0]*window+monitor.tot_waits[0:-window])\n",
    "    avg_waits_per_time = (a-b)[window-1:]/window/monitor_rate\n",
    "    \n",
    "\n",
    "    plt.subplot(311)\n",
    "    plt.plot(avg_waits_per_time, label=monitor.client.client_id)\n",
    "    plt.subplot(312)\n",
    "    plt.plot(avg_packet_rec_per_time, label=monitor.client.client_id)\n",
    "    plt.subplot(313)\n",
    "    plt.plot(avg_waits_per_time/avg_packet_rec_per_time, label=monitor.client.client_id)\n",
    "\n",
    "plt.subplot(311)\n",
    "plt.title(\"avg_waits s/s, window=\"+str(window))\n",
    "plt.subplot(312)\n",
    "plt.title(\"avg_pkt_recieved /s, window=\"+str(window))\n",
    "plt.subplot(313)\n",
    "plt.title(\"avg_waits/pkt, window=\"+str(window))\n",
    "plt.legend(bbox_to_anchor=(1.01, 1),loc='upper left')\n",
    "plt.subplots_adjust(top=0.92, bottom=0.08, left=0.10, right=0.95, hspace=0.25,wspace=0.35)"
   ]
  },
  {
   "cell_type": "code",
   "execution_count": 6,
   "metadata": {},
   "outputs": [
    {
     "data": {
      "text/plain": [
       "3"
      ]
     },
     "execution_count": 6,
     "metadata": {},
     "output_type": "execute_result"
    }
   ],
   "source": [
    "topic1 = 'a1/b1/c1'\n",
    "topic2 = 'a1/b2/c2'\n",
    "tp.topic_distance(topic1, topic2)"
   ]
  },
  {
   "cell_type": "code",
   "execution_count": null,
   "metadata": {},
   "outputs": [],
   "source": []
  }
 ],
 "metadata": {
  "kernelspec": {
   "display_name": "Python 3",
   "language": "python",
   "name": "python3"
  },
  "language_info": {
   "codemirror_mode": {
    "name": "ipython",
    "version": 3
   },
   "file_extension": ".py",
   "mimetype": "text/x-python",
   "name": "python",
   "nbconvert_exporter": "python",
   "pygments_lexer": "ipython3",
   "version": "3.8.3"
  }
 },
 "nbformat": 4,
 "nbformat_minor": 4
}
